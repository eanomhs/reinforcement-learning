{
 "cells": [
  {
   "cell_type": "code",
   "execution_count": 149,
   "metadata": {},
   "outputs": [],
   "source": [
    "import random\n",
    "import numpy as np\n",
    "import random\n",
    "from matplotlib import pyplot as plt\n",
    "\n",
    "np.random.seed(0)\n",
    "\n",
    "def greedy(results, n):#方策１\n",
    "    slot_num = None\n",
    "    for i,d in enumerate(results):\n",
    "        if d[1] < n:\n",
    "            slot_num = i\n",
    "            break\n",
    "    if slot_num == None:\n",
    "        slot_num = np.array([row[3] for row in results]).argmax()\n",
    "    return slot_num\n",
    "\n",
    "def epsilon_greedy(results, epsilon):#方策２\n",
    "    slot_num = None\n",
    "    for i,d in enumerate(results):\n",
    "         if d[1] ==0:\n",
    "            slot_num = i\n",
    "            break\n",
    "    if slot_num ==None:#確率条件分岐\n",
    "        if random.random() < epsilon:\n",
    "             slot_num = np.random.randint(0,5)\n",
    "        else:\n",
    "             slot_num = np.array([row[3] for row in results]).argmax()\n",
    "    return slot_num\n",
    "\n",
    "def optimistic(results, k, rsup):#方策3\n",
    "    optimistic_mean = np.array([(row[2] + k*rsup)/(row[1] + k) for row in results])\n",
    "    slot_num = optimistic_mean.argmax()\n",
    "    return slot_num\n",
    "\n",
    "def softmax(results, tau):#方策4\n",
    "    q = np.array([row[3] for row in results])\n",
    "    if q.sum() ==0:\n",
    "        q += 1\n",
    "        q = sum(q)\n",
    "    else:\n",
    "        q = np.exp(q/tau)/sum(np.exp(q/tau))\n",
    "    slot_num = np.random.choice([0,1,2,3,4], p=q)      \n",
    "    return slot_num   \n",
    "\n",
    "def UCB(results, R):#方策5\n",
    "    slot_num = None\n",
    "    for i,d in enumerate(results):\n",
    "         if d[1] ==0:\n",
    "            slot_num = i\n",
    "            break\n",
    "    if slot_num ==None:\n",
    "        times = np.array([row[1] for row in results])\n",
    "        u = np.array([row[3] for row in results])\n",
    "        x = R*np.sqrt((2*np.log(sum(times)))/times)\n",
    "        slot_num = (u+x).argmax()\n",
    "    return slot_num\n",
    "\n",
    "    \n",
    "def environments(band_number):#environment only result\n",
    "    coins_p = np.array([0.3, 0.4, 0.5, 0.6, 0.7])\n",
    "    results = np.random.binomial(1, coins_p)\n",
    "    result = results[band_number]\n",
    "    return result\n",
    "\n",
    "def reward(record, results, slot_num, time):\n",
    "    result = environments(slot_num)\n",
    "    record[time] = result\n",
    "    results[slot_num][1] += 1\n",
    "    results[slot_num][2] += result\n",
    "    results[slot_num][3] = results[slot_num][2] / results[slot_num][1]\n",
    "    return results, record\n",
    "\n",
    "times = 10000\n",
    "results = [[0, 0, 0, 0], [1, 0, 0, 0], [2, 0, 0, 0], [3, 0, 0, 0], [4, 0, 0, 0]]\n",
    "record = np.zeros(times)\n",
    "n = 100"
   ]
  },
  {
   "cell_type": "raw",
   "metadata": {},
   "source": [
    "探索するか期待値で選ぶか"
   ]
  },
  {
   "cell_type": "code",
   "execution_count": 53,
   "metadata": {},
   "outputs": [],
   "source": [
    "import numpy as np\n",
    "\n",
    "state_transition = np.array(\n",
    "                    [[0, 0, 0, 0.3, 5],\n",
    "                    [0, 1, 0, 0.7, -10],\n",
    "                    [0, 0, 1, 1, 5],\n",
    "                    [1, 0, 1, 1, 5],\n",
    "                    [1, 2, 0, 0.8, 100],\n",
    "                    [1, 1, 0, 0.2, -10]]\n",
    "                    )"
   ]
  },
  {
   "cell_type": "code",
   "execution_count": 54,
   "metadata": {},
   "outputs": [],
   "source": [
    "def actions(state):#global variable state_trandition\n",
    "    if terminals ==[2]:\n",
    "        return None\n",
    "    A = np.unique(np.array([row[2] for row in state_transition if row[0]==state]))\n",
    "    return A#取りうるアクション"
   ]
  },
  {
   "cell_type": "code",
   "execution_count": 55,
   "metadata": {},
   "outputs": [],
   "source": [
    "def R(state, action, after_state):\n",
    "    if state==terminals:\n",
    "        return 0\n",
    "    else:\n",
    "        reward = np.array([row[4] for row in state_transition \n",
    "                           if row[0]==state and row[1]==after_state and row[2]==action])\n",
    "    return reward[0]#得られた報酬"
   ]
  },
  {
   "cell_type": "code",
   "execution_count": 60,
   "metadata": {
    "scrolled": true
   },
   "outputs": [
    {
     "name": "stdout",
     "output_type": "stream",
     "text": [
      "[(0.8, 2.0), (0.2, 1.0)]\n"
     ]
    }
   ],
   "source": [
    "def T(state, action):\n",
    "    if state==terminals:\n",
    "        return [(0, terminals)]\n",
    "    else:\n",
    "        return [(row[3], row[1]) for row in state_transition \n",
    "                if row[0]==state and row[2]==action]\n",
    "        #（確率、次の状態）のタプル"
   ]
  },
  {
   "cell_type": "code",
   "execution_count": 154,
   "metadata": {},
   "outputs": [],
   "source": [
    "def take_single_action(state, action):\n",
    "    x = random.random()\n",
    "    for p, nextate in T(state, action):\n",
    "        sump = p\n",
    "        if x < sump :\n",
    "            next_state = nextate\n",
    "            break\n",
    "    return next_state"
   ]
  },
  {
   "cell_type": "code",
   "execution_count": 178,
   "metadata": {},
   "outputs": [],
   "source": [
    "def calculate_value():#if all action = actionX\n",
    "    action = 0\n",
    "    state = init\n",
    "    sumg = 0\n",
    "    time = 0\n",
    "    while True:\n",
    "        next_state = take_single_action(state, action)\n",
    "        sumg += R(state, action, next_state)*(gamma**time)\n",
    "        time += 1\n",
    "        state = next_state\n",
    "        if state==terminals:\n",
    "            break\n",
    "    return sumg"
   ]
  },
  {
   "cell_type": "code",
   "execution_count": 181,
   "metadata": {},
   "outputs": [],
   "source": [
    "state_transition = np.array(\n",
    "    [[0, 0, 0, 0.3, 5],\n",
    "    [0, 1, 0, 0.7, -10],\n",
    "    [0, 0, 1, 1, 5],\n",
    "    [1, 0, 1, 1, 5],\n",
    "    [1, 2, 0, 0.8, 100],\n",
    "    [1, 1, 0, 0.2, 1]]\n",
    ")\n",
    "\n",
    "states = np.unique(state_transition[:, 0])\n",
    "actlist = np.unique(state_transition[:, 2])\n",
    "terminals = [2]\n",
    "gamma = 0.8\n",
    "\n",
    "V = {s: 0 for s in np.hstack((states,terminals))}\n",
    "pi = {s: 0 for s in states}"
   ]
  },
  {
   "cell_type": "code",
   "execution_count": 242,
   "metadata": {},
   "outputs": [
    {
     "data": {
      "text/plain": [
       "{0.0: 0, 1.0: 0}"
      ]
     },
     "execution_count": 242,
     "metadata": {},
     "output_type": "execute_result"
    }
   ],
   "source": [
    "pi"
   ]
  },
  {
   "cell_type": "code",
   "execution_count": 238,
   "metadata": {},
   "outputs": [
    {
     "data": {
      "text/plain": [
       "0.0"
      ]
     },
     "execution_count": 238,
     "metadata": {},
     "output_type": "execute_result"
    }
   ],
   "source": [
    "take_single_action(1, 1)"
   ]
  },
  {
   "cell_type": "code",
   "execution_count": 240,
   "metadata": {},
   "outputs": [
    {
     "data": {
      "text/plain": [
       "array([0., 1.])"
      ]
     },
     "execution_count": 240,
     "metadata": {},
     "output_type": "execute_result"
    }
   ],
   "source": [
    "states"
   ]
  },
  {
   "cell_type": "code",
   "execution_count": 241,
   "metadata": {},
   "outputs": [],
   "source": [
    "V = {0.0: 0, 1.0: 0, 2.0: 0}"
   ]
  },
  {
   "cell_type": "code",
   "execution_count": 243,
   "metadata": {},
   "outputs": [],
   "source": [
    "def policy_evaluation(pi, states, epsilon=0.001):\n",
    "    while True:\n",
    "        delta = 0\n",
    "        for s in states:\n",
    "            v = V[s]\n",
    "            sumv = 0\n",
    "            for p, after_state in T(s, pi[s]):\n",
    "                sumv += p*(R(s, pi[s], after_state) + gamma*V[after_state])\n",
    "            V[s] = sumv\n",
    "            delta = max(delta,abs(v - V[s]))\n",
    "        if  delta < epsilon:\n",
    "            return V"
   ]
  },
  {
   "cell_type": "raw",
   "metadata": {},
   "source": [
    "方策が決まると状態価値（状態における収益の期待値）が決まる"
   ]
  },
  {
   "cell_type": "code",
   "execution_count": 244,
   "metadata": {},
   "outputs": [],
   "source": [
    "situation = np.array([[None, None, None, None, None, None],\n",
    "                      [None, -0.04, -0.04, -0.04, -0.04, None],\n",
    "                      [None, -0.04, None, -0.04, -1, None],\n",
    "                      [None, -0.04, -0.04, -0.04, +1, None],\n",
    "                      [None, None, None, None, None, None]])"
   ]
  },
  {
   "cell_type": "code",
   "execution_count": 245,
   "metadata": {},
   "outputs": [
    {
     "data": {
      "text/plain": [
       "-0.04"
      ]
     },
     "execution_count": 245,
     "metadata": {},
     "output_type": "execute_result"
    }
   ],
   "source": [
    "situation[1,1]"
   ]
  },
  {
   "cell_type": "code",
   "execution_count": 246,
   "metadata": {},
   "outputs": [],
   "source": [
    "actions = ((1, 0), (0, 1), (-1, 0), (0, -1))"
   ]
  },
  {
   "cell_type": "code",
   "execution_count": 247,
   "metadata": {},
   "outputs": [
    {
     "data": {
      "text/plain": [
       "(1, 0)"
      ]
     },
     "execution_count": 247,
     "metadata": {},
     "output_type": "execute_result"
    }
   ],
   "source": [
    "actions[0]"
   ]
  },
  {
   "cell_type": "code",
   "execution_count": 250,
   "metadata": {},
   "outputs": [
    {
     "name": "stdout",
     "output_type": "stream",
     "text": [
      "None\n"
     ]
    }
   ],
   "source": [
    "print(situation[actions[0]])"
   ]
  },
  {
   "cell_type": "code",
   "execution_count": 251,
   "metadata": {},
   "outputs": [],
   "source": [
    "q_table = np.random.uniform(\n",
    "    low=-0.01, high=0.01, size=(10 ** 2, 4))"
   ]
  },
  {
   "cell_type": "code",
   "execution_count": 255,
   "metadata": {},
   "outputs": [
    {
     "data": {
      "text/plain": [
       "0.0034127573923631877"
      ]
     },
     "execution_count": 255,
     "metadata": {},
     "output_type": "execute_result"
    }
   ],
   "source": [
    "q_table[11,1]"
   ]
  },
  {
   "cell_type": "code",
   "execution_count": null,
   "metadata": {},
   "outputs": [],
   "source": []
  }
 ],
 "metadata": {
  "kernelspec": {
   "display_name": "Python 3",
   "language": "python",
   "name": "python3"
  },
  "language_info": {
   "codemirror_mode": {
    "name": "ipython",
    "version": 3
   },
   "file_extension": ".py",
   "mimetype": "text/x-python",
   "name": "python",
   "nbconvert_exporter": "python",
   "pygments_lexer": "ipython3",
   "version": "3.6.4"
  }
 },
 "nbformat": 4,
 "nbformat_minor": 2
}
