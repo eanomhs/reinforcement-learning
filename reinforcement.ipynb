{
 "cells": [
  {
   "cell_type": "code",
   "execution_count": 72,
   "metadata": {},
   "outputs": [],
   "source": [
    "import random\n",
    "import numpy as np\n",
    "import matplotlib.pyplot as plt\n",
    "\n",
    "random.seed(0)\n",
    "np.random.seed(0)"
   ]
  },
  {
   "cell_type": "code",
   "execution_count": 142,
   "metadata": {},
   "outputs": [],
   "source": [
    "times = 10000\n",
    "results = [[0, 0, 0, 0], #[スロットのインデックス、選択回数、報酬合計、その時点の期待値（報酬合計/選択回数]\n",
    "           [1, 0, 0, 0],\n",
    "           [2, 0, 0, 0],\n",
    "           [3, 0, 0, 0],\n",
    "           [4, 0, 0, 0]]#listの入れ子\n",
    "record = np.zeros(times)#報酬の配列、試行ごとに増えていく\n",
    "slot_num = 1\n",
    "time = 1000"
   ]
  },
  {
   "cell_type": "code",
   "execution_count": null,
   "metadata": {},
   "outputs": [],
   "source": [
    "def random_select():#スロットをランダムに選択\n",
    "    slot_num = np.random.randint(0,5)\n",
    "    return slot_num"
   ]
  },
  {
   "cell_type": "code",
   "execution_count": null,
   "metadata": {},
   "outputs": [],
   "source": [
    "def environments(band_number):#環境に選択したスロットを渡し、バイナリの結果をもらう\n",
    "    \n",
    "    coins_probability = np.array([0.3, 0.4, 0.5, 0.6, 0.7])\n",
    "    \n",
    "    results = np.random.binomial(1, coins_probability[band_number], )\n",
    "    \n",
    "    return results"
   ]
  },
  {
   "cell_type": "code",
   "execution_count": 146,
   "metadata": {},
   "outputs": [],
   "source": [
    "def reward(record, results, slot_num, time):#これまでの報酬の総統計データを集計している。\n",
    "    result = environments(slot_num)\n",
    "    \n",
    "    record[time] = result\n",
    "    \n",
    "    results[slot_num][1] += 1#選択回数をカウント\n",
    "    results[slot_num][2] += result#報酬をプラス、成功＝１、失敗＝0\n",
    "    results[slot_num][3] = results[slot_num][2]/results[slot_num][1]#2/1で期待値計算\n",
    "    \n",
    "    return results, record"
   ]
  },
  {
   "cell_type": "code",
   "execution_count": 147,
   "metadata": {},
   "outputs": [],
   "source": [
    "#times回試行して、結果を取得する。\n",
    "#試行は全てランダムにスロットを選択する\n",
    "#timeはfor文のカウンター兼レコードのカウンターになる\n",
    "for time in range(times):\n",
    "    slot_number = random_select()\n",
    "    results, record = reward(record, results, slot_number, time)"
   ]
  },
  {
   "cell_type": "code",
   "execution_count": 148,
   "metadata": {},
   "outputs": [
    {
     "name": "stdout",
     "output_type": "stream",
     "text": [
      "[[0, 1965, 576, 0.2931297709923664], [1, 1976, 783, 0.39625506072874495], [2, 2001, 973, 0.4862568715642179], [3, 2054, 1220, 0.5939629990262901], [4, 2004, 1424, 0.7105788423153693]]\n"
     ]
    }
   ],
   "source": [
    "print(results)"
   ]
  },
  {
   "cell_type": "code",
   "execution_count": 168,
   "metadata": {},
   "outputs": [
    {
     "name": "stderr",
     "output_type": "stream",
     "text": [
      "C:\\Users\\seano\\Anaconda3\\lib\\site-packages\\ipykernel_launcher.py:1: RuntimeWarning: invalid value encountered in double_scalars\n",
      "  \"\"\"Entry point for launching an IPython kernel.\n"
     ]
    },
    {
     "data": {
      "text/plain": [
       "[<matplotlib.lines.Line2D at 0x1f302f79128>]"
      ]
     },
     "execution_count": 168,
     "metadata": {},
     "output_type": "execute_result"
    },
    {
     "data": {
      "image/png": "[encoded data removed]",
      "text/plain": [
       "<matplotlib.figure.Figure at 0x1f302d28940>"
      ]
     },
     "metadata": {},
     "output_type": "display_data"
    }
   ],
   "source": [
    "plt.plot(np.array(range(0,10000)), np.array([record.cumsum()[i]/i for i in range(times)]))"
   ]
  },
  {
   "cell_type": "code",
   "execution_count": null,
   "metadata": {},
   "outputs": [],
   "source": []
  }
 ],
 "metadata": {
  "kernelspec": {
   "display_name": "Python 3",
   "language": "python",
   "name": "python3"
  },
  "language_info": {
   "codemirror_mode": {
    "name": "ipython",
    "version": 3
   },
   "file_extension": ".py",
   "mimetype": "text/x-python",
   "name": "python",
   "nbconvert_exporter": "python",
   "pygments_lexer": "ipython3",
   "version": "3.6.4"
  }
 },
 "nbformat": 4,
 "nbformat_minor": 2
}
